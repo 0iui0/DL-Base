{
  "nbformat": 4,
  "nbformat_minor": 0,
  "metadata": {
    "colab": {
      "name": "DL_AE2.ipynb",
      "provenance": [],
      "collapsed_sections": []
    },
    "kernelspec": {
      "name": "python3",
      "display_name": "Python 3"
    }
  },
  "cells": [
    {
      "cell_type": "code",
      "metadata": {
        "id": "vCmd90UBN5rE"
      },
      "source": [
        "import keras\n",
        "from keras import backend as K\n"
      ],
      "execution_count": null,
      "outputs": []
    },
    {
      "cell_type": "code",
      "metadata": {
        "id": "0Rfh1d27OoGv"
      },
      "source": [
        ""
      ],
      "execution_count": null,
      "outputs": []
    },
    {
      "cell_type": "code",
      "metadata": {
        "id": "krhw7orTWnq4"
      },
      "source": [
        "# We have defined 4 modules:\n",
        "# Encoder: [input_img] --> [mu, log_var]\n",
        "# Sampling: [mu, log_var, eps] --> [z]\n",
        "# Decoder: [z] --> [output_img]\n",
        "# LossFuntionLayer: [input_img, output_img, mu, log_var] --> [output_img]"
      ],
      "execution_count": null,
      "outputs": []
    },
    {
      "cell_type": "code",
      "metadata": {
        "id": "z73W6JIcXhKF"
      },
      "source": [
        "from keras.layers import Input,Dense,Conv2D,MaxPooling2D,UpSampling2D,Flatten\n",
        "from keras import models\n",
        "shape_z=2"
      ],
      "execution_count": null,
      "outputs": []
    },
    {
      "cell_type": "code",
      "metadata": {
        "id": "MQRUrurNqH2n"
      },
      "source": [
        "# 1.The Encoder Network"
      ],
      "execution_count": null,
      "outputs": []
    },
    {
      "cell_type": "code",
      "metadata": {
        "id": "t7G2c4gUmRm_"
      },
      "source": [
        "# define convolutional layers\n",
        "enc_conv1 = Conv2D(32, 3, padding='same',\n",
        "                   activation='relu', name='enc_conv1')\n",
        "enc_conv2 = Conv2D(64, 3, padding='same',\n",
        "                   activation='relu', strides=(2,2), name='enc_conv2')\n",
        "enc_conv3 = Conv2D(64, 3, padding='same',\n",
        "                   activation='relu', name='enc_conv3')\n",
        "enc_conv4 = Conv2D(64, 3, padding='same',\n",
        "                   activation='relu', name='enc_conv4')\n",
        "\n",
        "input_img=Input(shape=(28,28,1), name='input_img')\n",
        "enc_conv_out1 = enc_conv1(input_img)\n",
        "enc_conv_out2 = enc_conv2(enc_conv_out1)\n",
        "enc_conv_out3 = enc_conv3(enc_conv_out2)\n",
        "enc_conv_out4 = enc_conv4(enc_conv_out3)\n"
      ],
      "execution_count": null,
      "outputs": []
    },
    {
      "cell_type": "code",
      "metadata": {
        "id": "EUmP9prhnuaZ"
      },
      "source": [
        "# define flatten and dense layers\n",
        "enc_flat = Flatten(name='enc_flat')\n",
        "enc_dense = Dense(32, activation='relu',\n",
        "                  name='enc_dense')\n",
        "enc_mu = Dense(shape_z, name='mu')\n",
        "enc_log_var = Dense(shape_z, name='enc_log_var')\n",
        "\n",
        "enc_flat_out = enc_flat(enc_conv_out4)\n",
        "enc_dense_out = enc_dense(enc_flat_out)\n",
        "mu = enc_mu(enc_dense_out)\n",
        "log_var = enc_log_var(enc_dense_out)"
      ],
      "execution_count": null,
      "outputs": []
    },
    {
      "cell_type": "code",
      "metadata": {
        "id": "QA5xj1OAo9u1"
      },
      "source": [
        "# model\n",
        "encoder = models.Model(inputs=input_img,\n",
        "                       outputs=[mu, log_var],\n",
        "                       name='encoder')"
      ],
      "execution_count": null,
      "outputs": []
    },
    {
      "cell_type": "code",
      "metadata": {
        "id": "gKAyn-wHKGGZ",
        "outputId": "8be8e5d3-bf17-467a-b078-c036e1ef198d",
        "colab": {
          "base_uri": "https://localhost:8080/",
          "height": 459
        }
      },
      "source": [
        "encoder.summary()"
      ],
      "execution_count": null,
      "outputs": [
        {
          "output_type": "stream",
          "text": [
            "Model: \"encoder\"\n",
            "__________________________________________________________________________________________________\n",
            "Layer (type)                    Output Shape         Param #     Connected to                     \n",
            "==================================================================================================\n",
            "input_img (InputLayer)          [(None, 28, 28, 1)]  0                                            \n",
            "__________________________________________________________________________________________________\n",
            "enc_conv1 (Conv2D)              (None, 28, 28, 32)   320         input_img[0][0]                  \n",
            "__________________________________________________________________________________________________\n",
            "enc_conv2 (Conv2D)              (None, 14, 14, 64)   18496       enc_conv1[0][0]                  \n",
            "__________________________________________________________________________________________________\n",
            "enc_conv3 (Conv2D)              (None, 14, 14, 64)   36928       enc_conv2[0][0]                  \n",
            "__________________________________________________________________________________________________\n",
            "enc_conv4 (Conv2D)              (None, 14, 14, 64)   36928       enc_conv3[0][0]                  \n",
            "__________________________________________________________________________________________________\n",
            "enc_flat (Flatten)              (None, 12544)        0           enc_conv4[0][0]                  \n",
            "__________________________________________________________________________________________________\n",
            "enc_dense (Dense)               (None, 32)           401440      enc_flat[0][0]                   \n",
            "__________________________________________________________________________________________________\n",
            "mu (Dense)                      (None, 2)            66          enc_dense[0][0]                  \n",
            "__________________________________________________________________________________________________\n",
            "enc_log_var (Dense)             (None, 2)            66          enc_dense[0][0]                  \n",
            "==================================================================================================\n",
            "Total params: 494,244\n",
            "Trainable params: 494,244\n",
            "Non-trainable params: 0\n",
            "__________________________________________________________________________________________________\n"
          ],
          "name": "stdout"
        }
      ]
    },
    {
      "cell_type": "code",
      "metadata": {
        "id": "3mIs-ZTBp8Ln"
      },
      "source": [
        "# 2. The Sampling Network"
      ],
      "execution_count": null,
      "outputs": []
    },
    {
      "cell_type": "code",
      "metadata": {
        "id": "I64vDpUQqToO"
      },
      "source": [
        "from keras.layers import Lambda, Multiply, Add\n",
        "from keras import backend as K"
      ],
      "execution_count": null,
      "outputs": []
    },
    {
      "cell_type": "code",
      "metadata": {
        "id": "FgEn7rWpqkkR"
      },
      "source": [
        "# inputs\n",
        "mu = Input(shape=(shape_z,), name='mu')\n",
        "log_var = Input(shape=(shape_z,), name='log_var')\n",
        "eps = Input(shape=(shape_z,), name='eps')"
      ],
      "execution_count": null,
      "outputs": []
    },
    {
      "cell_type": "code",
      "metadata": {
        "id": "Cm9sf6OIq_xg"
      },
      "source": [
        "# layers\n",
        "sigma = Lambda(lambda t: K.exp(.5*t), name='sigma')(log_var)\n",
        "V = Multiply(name='v')([sigma, eps])\n",
        "z = Add(name='z')([mu,V])"
      ],
      "execution_count": null,
      "outputs": []
    },
    {
      "cell_type": "code",
      "metadata": {
        "id": "KC3uksHPrhWG"
      },
      "source": [
        "# model\n",
        "sampling = models.Model(inputs=[mu, log_var, eps], outputs=z, name='sampling')"
      ],
      "execution_count": null,
      "outputs": []
    },
    {
      "cell_type": "code",
      "metadata": {
        "id": "4dvPl1vOKb-O",
        "outputId": "8e6951b3-2de6-4138-d584-378fc5504358",
        "colab": {
          "base_uri": "https://localhost:8080/",
          "height": 391
        }
      },
      "source": [
        "sampling.summary()"
      ],
      "execution_count": null,
      "outputs": [
        {
          "output_type": "stream",
          "text": [
            "Model: \"sampling\"\n",
            "__________________________________________________________________________________________________\n",
            "Layer (type)                    Output Shape         Param #     Connected to                     \n",
            "==================================================================================================\n",
            "log_var (InputLayer)            [(None, 2)]          0                                            \n",
            "__________________________________________________________________________________________________\n",
            "sigma (Lambda)                  (None, 2)            0           log_var[0][0]                    \n",
            "__________________________________________________________________________________________________\n",
            "eps (InputLayer)                [(None, 2)]          0                                            \n",
            "__________________________________________________________________________________________________\n",
            "mu (InputLayer)                 [(None, 2)]          0                                            \n",
            "__________________________________________________________________________________________________\n",
            "v (Multiply)                    (None, 2)            0           sigma[0][0]                      \n",
            "                                                                 eps[0][0]                        \n",
            "__________________________________________________________________________________________________\n",
            "z (Add)                         (None, 2)            0           mu[0][0]                         \n",
            "                                                                 v[0][0]                          \n",
            "==================================================================================================\n",
            "Total params: 0\n",
            "Trainable params: 0\n",
            "Non-trainable params: 0\n",
            "__________________________________________________________________________________________________\n"
          ],
          "name": "stdout"
        }
      ]
    },
    {
      "cell_type": "code",
      "metadata": {
        "id": "mq-xIyiyr_Xs"
      },
      "source": [
        "# 3. The Docoder Network\n",
        "import numpy as np\n",
        "\n",
        "shape_before_flattening = K.int_shape(enc_conv_out4)[1:]\n",
        "shape_after_flattening = np.prod(shape_before_flattening)\n"
      ],
      "execution_count": null,
      "outputs": []
    },
    {
      "cell_type": "code",
      "metadata": {
        "id": "eJR5wrXQskMw"
      },
      "source": [
        "from keras.layers import Dense, Reshape, Conv2D, Conv2DTranspose\n",
        "dec_dense1 = Dense(32, activation='relu', name='dec_dense1')\n",
        "dec_dense2 = Dense(shape_after_flattening,\n",
        "                   activation='relu',name='dec_dense2')\n",
        "dec_reshape = Reshape(shape_before_flattening)\n",
        "\n",
        "\n",
        "z = Input(shape=(shape_z,), name='z')\n",
        "dec_dense_out1 = dec_dense1(z)\n",
        "dec_dense_out2 = dec_dense2(dec_dense_out1)\n",
        "dec_reshape_out = dec_reshape(dec_dense_out2)"
      ],
      "execution_count": null,
      "outputs": []
    },
    {
      "cell_type": "code",
      "metadata": {
        "id": "jMtkydlluEXV"
      },
      "source": [
        "dec_conv1 = Conv2DTranspose(32, 3, padding='same',\n",
        "                            activation='relu',\n",
        "                            strides=(2,2),\n",
        "                            name='dec_conv1')\n",
        "dec_conv2 = Conv2D(1, 3, padding='same',\n",
        "                   activation='relu',\n",
        "                   name='gen_img')\n",
        "\n",
        "dec_conv_out1 = dec_conv1(dec_reshape_out)\n",
        "gen_img = dec_conv2(dec_conv_out1)"
      ],
      "execution_count": null,
      "outputs": []
    },
    {
      "cell_type": "code",
      "metadata": {
        "id": "qXFSo_o22ca9"
      },
      "source": [
        "decoder = models.Model(inputs=z,\n",
        "                       outputs=gen_img,\n",
        "                       name='decoder')"
      ],
      "execution_count": null,
      "outputs": []
    },
    {
      "cell_type": "code",
      "metadata": {
        "id": "cOhO-ZCKKuxv",
        "outputId": "c55edfdc-89c3-4f31-9860-71dd69dd3a5f",
        "colab": {
          "base_uri": "https://localhost:8080/",
          "height": 357
        }
      },
      "source": [
        "decoder.summary()"
      ],
      "execution_count": null,
      "outputs": [
        {
          "output_type": "stream",
          "text": [
            "Model: \"decoder\"\n",
            "_________________________________________________________________\n",
            "Layer (type)                 Output Shape              Param #   \n",
            "=================================================================\n",
            "z (InputLayer)               [(None, 2)]               0         \n",
            "_________________________________________________________________\n",
            "dec_dense1 (Dense)           (None, 32)                96        \n",
            "_________________________________________________________________\n",
            "dec_dense2 (Dense)           (None, 12544)             413952    \n",
            "_________________________________________________________________\n",
            "reshape (Reshape)            (None, 14, 14, 64)        0         \n",
            "_________________________________________________________________\n",
            "dec_conv1 (Conv2DTranspose)  (None, 28, 28, 32)        18464     \n",
            "_________________________________________________________________\n",
            "gen_img (Conv2D)             (None, 28, 28, 1)         289       \n",
            "=================================================================\n",
            "Total params: 432,801\n",
            "Trainable params: 432,801\n",
            "Non-trainable params: 0\n",
            "_________________________________________________________________\n"
          ],
          "name": "stdout"
        }
      ]
    },
    {
      "cell_type": "code",
      "metadata": {
        "id": "3Cq-I3n-231E"
      },
      "source": [
        "class LossFunctionLayer(keras.layers.Layer):\n",
        "  param = 1E-3\n",
        "  def kl_loss(self, mu, log_var):\n",
        "    l = -0.5*K.mean(1+log_var- K.square(mu)- K.exp(log_var),axis=-1)\n",
        "    return self.param * K.mean(l)\n",
        "  def gen_loss(self, input_img, output_img):\n",
        "    l = keras.metrics.binary_crossentropy(input_img, output_img)\n",
        "    return K.mean(l)\n",
        "  def call(self, inputs): \n",
        "    input_img, output_img, mu, log_var = inputs\n",
        "    loss1 = self.gen_loss(input_img, output_img)\n",
        "    loss2 = self.kl_loss(mu, log_var)\n",
        "    self.add_loss(loss1+loss2) \n",
        "    return output_img"
      ],
      "execution_count": null,
      "outputs": []
    },
    {
      "cell_type": "code",
      "metadata": {
        "id": "Hz6G5chsXhzA"
      },
      "source": [
        "input_img =Input(shape=(28,28,1), name='input_img')\n",
        "n = K.shape(input_img)[0]\n",
        "esp = Input(tensor=K.random_normal(shape=(n,shape_z)), name='eps')\n",
        "\n",
        "mu, log_var = encoder(input_img)\n",
        "z = sampling([mu, log_var, eps])\n",
        "output_img = decoder(z)\n",
        "output_img = LossFunctionLayer(name='loss')([input_img, output_img, mu, log_var])\n",
        "model = models.Model(inputs=[input_img, eps], outputs=output_img)"
      ],
      "execution_count": null,
      "outputs": []
    },
    {
      "cell_type": "code",
      "metadata": {
        "id": "wnMczwDoMCGX",
        "outputId": "75711e74-80e0-467f-d5ca-b629f314b5d1",
        "colab": {
          "base_uri": "https://localhost:8080/",
          "height": 442
        }
      },
      "source": [
        "model.summary()"
      ],
      "execution_count": null,
      "outputs": [
        {
          "output_type": "stream",
          "text": [
            "Model: \"functional_1\"\n",
            "__________________________________________________________________________________________________\n",
            "Layer (type)                    Output Shape         Param #     Connected to                     \n",
            "==================================================================================================\n",
            "input_img (InputLayer)          [(None, 28, 28, 1)]  0                                            \n",
            "__________________________________________________________________________________________________\n",
            "encoder (Functional)            [(None, 2), (None, 2 494244      input_img[0][0]                  \n",
            "__________________________________________________________________________________________________\n",
            "eps (InputLayer)                [(None, 2)]          0                                            \n",
            "__________________________________________________________________________________________________\n",
            "sampling (Functional)           (None, 2)            0           encoder[0][0]                    \n",
            "                                                                 encoder[0][1]                    \n",
            "                                                                 eps[0][0]                        \n",
            "__________________________________________________________________________________________________\n",
            "decoder (Functional)            (None, 28, 28, 1)    432801      sampling[0][0]                   \n",
            "__________________________________________________________________________________________________\n",
            "loss (LossFunctionLayer)        (None, 28, 28, 1)    0           input_img[0][0]                  \n",
            "                                                                 decoder[0][0]                    \n",
            "                                                                 encoder[0][0]                    \n",
            "                                                                 encoder[0][1]                    \n",
            "==================================================================================================\n",
            "Total params: 927,045\n",
            "Trainable params: 927,045\n",
            "Non-trainable params: 0\n",
            "__________________________________________________________________________________________________\n"
          ],
          "name": "stdout"
        }
      ]
    },
    {
      "cell_type": "code",
      "metadata": {
        "id": "xO6Pz-ULMf2y"
      },
      "source": [
        ""
      ],
      "execution_count": null,
      "outputs": []
    },
    {
      "cell_type": "code",
      "metadata": {
        "id": "X_YtyLxP9-57"
      },
      "source": [
        "from  keras.datasets import mnist\n"
      ],
      "execution_count": null,
      "outputs": []
    },
    {
      "cell_type": "code",
      "metadata": {
        "id": "Y03zP95R-nMm",
        "outputId": "3340d287-762f-4d91-eed6-4e3fbb082c19",
        "colab": {
          "base_uri": "https://localhost:8080/",
          "height": 51
        }
      },
      "source": [
        "(x_train,y_train), (x_test,y_test)=mnist.load_data()"
      ],
      "execution_count": null,
      "outputs": [
        {
          "output_type": "stream",
          "text": [
            "Downloading data from https://storage.googleapis.com/tensorflow/tf-keras-datasets/mnist.npz\n",
            "11493376/11490434 [==============================] - 0s 0us/step\n"
          ],
          "name": "stdout"
        }
      ]
    },
    {
      "cell_type": "code",
      "metadata": {
        "id": "DY1u0VaWMyA_"
      },
      "source": [
        "model.compile(optimizer='RMSProp')"
      ],
      "execution_count": null,
      "outputs": []
    },
    {
      "cell_type": "code",
      "metadata": {
        "id": "hxH-g2TBj7a2"
      },
      "source": [
        "history = model.fit(\n",
        "    x_train,\n",
        "    None,\n",
        "    shuffle=True,\n",
        "    epochs=50,\n",
        "    batch_size=128,\n",
        "    # validation_data=(x_test, None)\n",
        ")"
      ],
      "execution_count": null,
      "outputs": []
    },
    {
      "cell_type": "code",
      "metadata": {
        "id": "nLnDgF-ds9wT"
      },
      "source": [
        ""
      ],
      "execution_count": null,
      "outputs": []
    },
    {
      "cell_type": "code",
      "metadata": {
        "id": "vqe8vBSckVgZ"
      },
      "source": [
        "z_sample = np.array([0.1, 0.2]).reshape((1,2))\n",
        "x_decoded = decoder.predict(z_sample)\n",
        "\n",
        "fig = plt.figure(figsize=(6,6))\n",
        "plt.imshow(x_decoded, cmap='gray')\n",
        "plt.axis('off')\n",
        "plt.show()"
      ],
      "execution_count": null,
      "outputs": []
    }
  ]
}