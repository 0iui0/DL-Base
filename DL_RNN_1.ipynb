{
  "nbformat": 4,
  "nbformat_minor": 0,
  "metadata": {
    "colab": {
      "name": "DL_RNN_1.ipynb",
      "provenance": []
    },
    "kernelspec": {
      "name": "python3",
      "display_name": "Python 3"
    }
  },
  "cells": [
    {
      "cell_type": "code",
      "metadata": {
        "id": "pJGVYpF5tBga"
      },
      "source": [
        "from keras.preprocessing.text import Tokenizer"
      ],
      "execution_count": null,
      "outputs": []
    },
    {
      "cell_type": "code",
      "metadata": {
        "id": "daa3qoUwt58q"
      },
      "source": [
        "vocabulary = 10000\n",
        "tokenizer = Tokenizer(num_words=vocabulary)\n"
      ],
      "execution_count": null,
      "outputs": []
    },
    {
      "cell_type": "code",
      "metadata": {
        "id": "TghrCPqnuS1y"
      },
      "source": [
        "\n",
        "tokenizer.fit_on_texts(\"date processing basics wahtat\")"
      ],
      "execution_count": null,
      "outputs": []
    },
    {
      "cell_type": "code",
      "metadata": {
        "id": "JZXteWYru2xd"
      },
      "source": [
        "word_index = tokenizer.word_index"
      ],
      "execution_count": null,
      "outputs": []
    },
    {
      "cell_type": "code",
      "metadata": {
        "id": "hSF36-_Du_AQ",
        "outputId": "28d09fee-5d2f-499d-fd25-c502d4051a9b",
        "colab": {
          "base_uri": "https://localhost:8080/",
          "height": 272
        }
      },
      "source": [
        "word_index"
      ],
      "execution_count": null,
      "outputs": [
        {
          "output_type": "execute_result",
          "data": {
            "text/plain": [
              "{'a': 1,\n",
              " 'b': 13,\n",
              " 'c': 5,\n",
              " 'd': 7,\n",
              " 'e': 4,\n",
              " 'g': 12,\n",
              " 'h': 15,\n",
              " 'i': 6,\n",
              " 'n': 11,\n",
              " 'o': 10,\n",
              " 'p': 8,\n",
              " 'r': 9,\n",
              " 's': 2,\n",
              " 't': 3,\n",
              " 'w': 14}"
            ]
          },
          "metadata": {
            "tags": []
          },
          "execution_count": 5
        }
      ]
    },
    {
      "cell_type": "code",
      "metadata": {
        "id": "GcIK0PYCvBsa"
      },
      "source": [
        "sequences_train = tokenizer.texts_to_sequences(\"I am not that I am ok am fine\")"
      ],
      "execution_count": null,
      "outputs": []
    },
    {
      "cell_type": "code",
      "metadata": {
        "id": "SQ0EFCLJvUhk",
        "outputId": "94eee2e7-7de4-4b4c-cb8f-27b5d70939f1",
        "colab": {
          "base_uri": "https://localhost:8080/",
          "height": 510
        }
      },
      "source": [
        "sequences_train"
      ],
      "execution_count": null,
      "outputs": [
        {
          "output_type": "execute_result",
          "data": {
            "text/plain": [
              "[[6],\n",
              " [],\n",
              " [1],\n",
              " [],\n",
              " [],\n",
              " [11],\n",
              " [10],\n",
              " [3],\n",
              " [],\n",
              " [3],\n",
              " [15],\n",
              " [1],\n",
              " [3],\n",
              " [],\n",
              " [6],\n",
              " [],\n",
              " [1],\n",
              " [],\n",
              " [],\n",
              " [10],\n",
              " [],\n",
              " [],\n",
              " [1],\n",
              " [],\n",
              " [],\n",
              " [],\n",
              " [6],\n",
              " [11],\n",
              " [4]]"
            ]
          },
          "metadata": {
            "tags": []
          },
          "execution_count": 7
        }
      ]
    },
    {
      "cell_type": "code",
      "metadata": {
        "id": "AUX_uDarvY0o"
      },
      "source": [
        ""
      ],
      "execution_count": null,
      "outputs": []
    }
  ]
}