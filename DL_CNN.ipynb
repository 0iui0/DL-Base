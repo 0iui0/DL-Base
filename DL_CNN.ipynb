{
  "nbformat": 4,
  "nbformat_minor": 0,
  "metadata": {
    "colab": {
      "name": "DL-CNN.ipynb",
      "provenance": []
    },
    "kernelspec": {
      "name": "python3",
      "display_name": "Python 3"
    },
    "accelerator": "GPU"
  },
  "cells": [
    {
      "cell_type": "code",
      "metadata": {
        "id": "X_YtyLxP9-57"
      },
      "source": [
        "from  keras.datasets import mnist"
      ],
      "execution_count": null,
      "outputs": []
    },
    {
      "cell_type": "code",
      "metadata": {
        "id": "Y03zP95R-nMm"
      },
      "source": [
        "(x_train,y_train), (x_test,y_test)=mnist.load_data()"
      ],
      "execution_count": null,
      "outputs": []
    },
    {
      "cell_type": "code",
      "metadata": {
        "id": "_DF1aMYq_OCW"
      },
      "source": [
        "x_train.shape,x_test.shape"
      ],
      "execution_count": null,
      "outputs": []
    },
    {
      "cell_type": "code",
      "metadata": {
        "id": "B8S1-gGJ_Zif"
      },
      "source": [
        "y_train.shape,y_test.shape"
      ],
      "execution_count": null,
      "outputs": []
    },
    {
      "cell_type": "code",
      "metadata": {
        "id": "Hfnw0uht_kCo"
      },
      "source": [
        "# convert 6000*28*28 to 6000*28*28*1"
      ],
      "execution_count": null,
      "outputs": []
    },
    {
      "cell_type": "code",
      "metadata": {
        "id": "-IiiYe9g_xlY"
      },
      "source": [
        "x_train_vec=x_train.reshape((60000, 28, 28,1))/255.0"
      ],
      "execution_count": null,
      "outputs": []
    },
    {
      "cell_type": "code",
      "metadata": {
        "id": "nZfte6bsACUU"
      },
      "source": [
        "x_test_vec=x_test.reshape((10000, 28, 28,1))/255.0"
      ],
      "execution_count": null,
      "outputs": []
    },
    {
      "cell_type": "code",
      "metadata": {
        "id": "dl-i5PqeAKvJ"
      },
      "source": [
        "x_train_vec.shape,x_test_vec.shape"
      ],
      "execution_count": null,
      "outputs": []
    },
    {
      "cell_type": "code",
      "metadata": {
        "id": "X-Q-c-LKAZWw"
      },
      "source": [
        "# convert lables(scalars in {0,1,2,..9}) to 10-dim vectors\n",
        "import numpy as np"
      ],
      "execution_count": null,
      "outputs": []
    },
    {
      "cell_type": "code",
      "metadata": {
        "id": "xTjTjJBfAmAy"
      },
      "source": [
        "def to_one_hot(lables, dim=10):\n",
        "  results=np.zeros((len(lables),dim))\n",
        "  for i, lable in enumerate(lables):\n",
        "    results[i,lable]=1.0\n",
        "  return results  "
      ],
      "execution_count": null,
      "outputs": []
    },
    {
      "cell_type": "code",
      "metadata": {
        "id": "ASNQAPewA73b"
      },
      "source": [
        "y_train_vec=to_one_hot(y_train)\n",
        "y_test_vec=to_one_hot(y_test)"
      ],
      "execution_count": null,
      "outputs": []
    },
    {
      "cell_type": "code",
      "metadata": {
        "id": "OoA5IaNjCX1s"
      },
      "source": [
        "# Partition the training set to traing and validation sets"
      ],
      "execution_count": null,
      "outputs": []
    },
    {
      "cell_type": "code",
      "metadata": {
        "id": "M_dFBiOjDF4w"
      },
      "source": [
        "rand_indeices =np.random.permutation(len(y_train))"
      ],
      "execution_count": null,
      "outputs": []
    },
    {
      "cell_type": "code",
      "metadata": {
        "id": "3P_1H0-vDUzP"
      },
      "source": [
        "train_indices = rand_indeices[0:50000]"
      ],
      "execution_count": null,
      "outputs": []
    },
    {
      "cell_type": "code",
      "metadata": {
        "id": "n-uFcaqEDiWh"
      },
      "source": [
        "valid_indices = rand_indeices[50000:60000]"
      ],
      "execution_count": null,
      "outputs": []
    },
    {
      "cell_type": "code",
      "metadata": {
        "id": "2YghafTWDowV"
      },
      "source": [
        "x_valid_vec = x_train_vec[valid_indices,:,:,:]"
      ],
      "execution_count": null,
      "outputs": []
    },
    {
      "cell_type": "code",
      "metadata": {
        "id": "oS7F7By2D0OW"
      },
      "source": [
        "y_valid_vec = y_train_vec[valid_indices,:]"
      ],
      "execution_count": null,
      "outputs": []
    },
    {
      "cell_type": "code",
      "metadata": {
        "id": "6pJZoeKDD8VV"
      },
      "source": [
        "y_train_vec = y_train_vec[train_indices,:]"
      ],
      "execution_count": null,
      "outputs": []
    },
    {
      "cell_type": "code",
      "metadata": {
        "id": "Gjk2LNcyEInY"
      },
      "source": [
        "x_train_vec = x_train_vec[train_indices,:,:,:]"
      ],
      "execution_count": null,
      "outputs": []
    },
    {
      "cell_type": "code",
      "metadata": {
        "id": "cfMItfo-Em0B"
      },
      "source": [
        "from keras import models\n",
        "from keras import layers"
      ],
      "execution_count": null,
      "outputs": []
    },
    {
      "cell_type": "code",
      "metadata": {
        "id": "MezX2_EhEyWA"
      },
      "source": [
        "model = models.Sequential()"
      ],
      "execution_count": null,
      "outputs": []
    },
    {
      "cell_type": "code",
      "metadata": {
        "id": "C7ce5X7nE33Q"
      },
      "source": [
        "model.add(layers.Conv2D(10,(5,5),activation='relu',input_shape=(28,28,1))) # 28-5+1"
      ],
      "execution_count": null,
      "outputs": []
    },
    {
      "cell_type": "code",
      "metadata": {
        "id": "4wAzqiZsFyGw"
      },
      "source": [
        "model.add(layers.MaxPool2D((2,2))) #12*12*10"
      ],
      "execution_count": null,
      "outputs": []
    },
    {
      "cell_type": "code",
      "metadata": {
        "id": "k98xcVwdGFDQ"
      },
      "source": [
        "model.add(layers.Conv2D(20,(5,5),activation='relu')) #output: (12-5+1)*(12-5+1)*20"
      ],
      "execution_count": null,
      "outputs": []
    },
    {
      "cell_type": "code",
      "metadata": {
        "id": "DMp7H6hRGhTi"
      },
      "source": [
        "model.add(layers.MaxPool2D((2,2))) # 4*4*20"
      ],
      "execution_count": null,
      "outputs": []
    },
    {
      "cell_type": "code",
      "metadata": {
        "id": "OCGjNB3lHvGY"
      },
      "source": [
        "model.add(layers.Flatten()) # =320"
      ],
      "execution_count": null,
      "outputs": []
    },
    {
      "cell_type": "code",
      "metadata": {
        "id": "oKXo9g3VH_4M"
      },
      "source": [
        "model.add(layers.Dense(100,activation='relu'))"
      ],
      "execution_count": null,
      "outputs": []
    },
    {
      "cell_type": "code",
      "metadata": {
        "id": "wYFekgEtIQeg"
      },
      "source": [
        "model.add(layers.Dense(10,activation='softmax'))"
      ],
      "execution_count": null,
      "outputs": []
    },
    {
      "cell_type": "code",
      "metadata": {
        "id": "2nPwNQqIIaBJ"
      },
      "source": [
        "model.summary()"
      ],
      "execution_count": null,
      "outputs": []
    },
    {
      "cell_type": "code",
      "metadata": {
        "id": "toD43XzCIdQa"
      },
      "source": [
        "from keras import optimizers"
      ],
      "execution_count": null,
      "outputs": []
    },
    {
      "cell_type": "code",
      "metadata": {
        "id": "wXdfA_5uJI3B"
      },
      "source": [
        "model.compile(optimizers.RMSprop(learning_rate=0.0001),loss='categorical_crossentropy',metrics=['accuracy'])"
      ],
      "execution_count": null,
      "outputs": []
    },
    {
      "cell_type": "code",
      "metadata": {
        "id": "GY4k_-RxJghj"
      },
      "source": [
        "history=model.fit(x_train_vec,y_train_vec,batch_size=128,epochs=50,validation_data=(x_valid_vec,y_valid_vec))"
      ],
      "execution_count": null,
      "outputs": []
    },
    {
      "cell_type": "code",
      "metadata": {
        "id": "DK5ICTHyJi3B"
      },
      "source": [
        "import matplotlib.pyplot as plt\n",
        "%matplotlib inline"
      ],
      "execution_count": null,
      "outputs": []
    },
    {
      "cell_type": "code",
      "metadata": {
        "id": "QQzlsUXLKeKZ"
      },
      "source": [
        "epochs = range(50)\n",
        "train_acc = history.history['accuracy']\n",
        "val_acc = history.history['val_accuracy']"
      ],
      "execution_count": null,
      "outputs": []
    },
    {
      "cell_type": "code",
      "metadata": {
        "id": "9z0k7QNPK2lx"
      },
      "source": [
        "plt.plot(epochs,train_acc,'bo',label='Train Acc')\n",
        "plt.plot(epochs,val_acc,'r',label='Val Acc')\n",
        "plt.xlabel('epochs')\n",
        "plt.ylabel('acc')\n",
        "plt.legend()\n",
        "plt.show()"
      ],
      "execution_count": null,
      "outputs": []
    },
    {
      "cell_type": "code",
      "metadata": {
        "id": "BiHYDizQLhtR"
      },
      "source": [
        "model.evaluate(x_test_vec,y_test_vec)"
      ],
      "execution_count": null,
      "outputs": []
    },
    {
      "cell_type": "code",
      "metadata": {
        "id": "zAWE6zdWMDi9"
      },
      "source": [
        ""
      ],
      "execution_count": null,
      "outputs": []
    }
  ]
}